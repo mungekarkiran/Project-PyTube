{
 "cells": [
  {
   "cell_type": "markdown",
   "id": "8a09c120",
   "metadata": {},
   "source": [
    "# YouTube Video Downloader"
   ]
  },
  {
   "cell_type": "code",
   "execution_count": 1,
   "id": "cd8545f9",
   "metadata": {},
   "outputs": [],
   "source": [
    "#import the package\n",
    "from pytube import YouTube"
   ]
  },
  {
   "cell_type": "code",
   "execution_count": 4,
   "id": "3553b0ac",
   "metadata": {},
   "outputs": [],
   "source": [
    "# get url\n",
    "url = \"https://www.youtube.com/watch?v=JtPbk7WvHAQ\"\n",
    "# call youtube method and pass the url\n",
    "myVideo = YouTube(url)\n",
    "\n",
    "# Error:\n",
    "# AttributeError: 'NoneType' object has no attribute 'span'\n",
    "# Solutin:\n",
    "# https://stackoverflow.com/questions/70060263/pytube-attributeerror-nonetype-object-has-no-attribute-span"
   ]
  },
  {
   "cell_type": "code",
   "execution_count": 5,
   "id": "0802e07b",
   "metadata": {},
   "outputs": [
    {
     "name": "stdout",
     "output_type": "stream",
     "text": [
      "La Casa De Papel || Bella Ciao\n"
     ]
    }
   ],
   "source": [
    "# get title of youtube video\n",
    "print(myVideo.title)"
   ]
  },
  {
   "cell_type": "code",
   "execution_count": 6,
   "id": "cdcb23c5",
   "metadata": {},
   "outputs": [
    {
     "name": "stdout",
     "output_type": "stream",
     "text": [
      "https://i.ytimg.com/vi/JtPbk7WvHAQ/sddefault.jpg\n"
     ]
    }
   ],
   "source": [
    "# get thumbnail url of the video\n",
    "print(myVideo.thumbnail_url)"
   ]
  },
  {
   "cell_type": "code",
   "execution_count": 9,
   "id": "1106921b",
   "metadata": {},
   "outputs": [
    {
     "name": "stdout",
     "output_type": "stream",
     "text": [
      "Stream resolution :  <Stream: itag=\"22\" mime_type=\"video/mp4\" res=\"720p\" fps=\"30fps\" vcodec=\"avc1.64001F\" acodec=\"mp4a.40.2\" progressive=\"True\" type=\"video\">\n"
     ]
    }
   ],
   "source": [
    "# set the stream resolution to download video\n",
    "my_video = myVideo.streams.get_highest_resolution()\n",
    "# or\n",
    "# my_video = myVideo.streams.first()\n",
    "# or \n",
    "# for stream in myVideo.streams:\n",
    "#     print(stream)\n",
    "\n",
    "print('Stream resolution : ', my_video)"
   ]
  },
  {
   "cell_type": "code",
   "execution_count": 10,
   "id": "e196ab6f",
   "metadata": {},
   "outputs": [
    {
     "data": {
      "text/plain": [
       "'D:\\\\test\\\\Python_Screening_Assignment\\\\Project-PyTube\\\\Notebook\\\\La Casa De Papel  Bella Ciao.mp4'"
      ]
     },
     "execution_count": 10,
     "metadata": {},
     "output_type": "execute_result"
    }
   ],
   "source": [
    "# download the video\n",
    "my_video.download()"
   ]
  },
  {
   "cell_type": "code",
   "execution_count": null,
   "id": "5a1afa17",
   "metadata": {},
   "outputs": [],
   "source": [
    "# https://www.youtube.com/watch?v=7BXJIjfJCsA\n",
    "# https://github.com/ayushi7rawat/Youtube-Projects/blob/master/YouTube%20Video%20Downloader/main.py\n",
    "# https://github.com/ayushi7rawat/Ultimate-Python-Resource-Hub"
   ]
  }
 ],
 "metadata": {
  "kernelspec": {
   "display_name": "Python 3",
   "language": "python",
   "name": "python3"
  },
  "language_info": {
   "codemirror_mode": {
    "name": "ipython",
    "version": 3
   },
   "file_extension": ".py",
   "mimetype": "text/x-python",
   "name": "python",
   "nbconvert_exporter": "python",
   "pygments_lexer": "ipython3",
   "version": "3.6.7"
  }
 },
 "nbformat": 4,
 "nbformat_minor": 5
}
